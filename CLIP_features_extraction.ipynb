{
 "cells": [
  {
   "cell_type": "markdown",
   "id": "narrative-albania",
   "metadata": {
    "cellId": "k5tidt8kuza44thhvc3zb",
    "execution_id": "2ac44039-0c7d-4034-863d-82e7ee98fafa"
   },
   "source": [
    "# Download images"
   ]
  },
  {
   "cell_type": "markdown",
   "id": "exterior-specific",
   "metadata": {
    "cellId": "u46wgim8l399s8hyty894b",
    "execution_id": "32fcf8c5-a16b-43c8-a4c3-1571143c3f3a"
   },
   "source": [
    "## Imports"
   ]
  },
  {
   "cell_type": "code",
   "execution_count": 1,
   "id": "wireless-atlanta",
   "metadata": {
    "cellId": "ba875mwgzfvx97o05f4qzg"
   },
   "outputs": [],
   "source": [
    "# %pip install google-search-results\n",
    "# %pip install ftfy regex tqdm\n",
    "# %pip install git+https://github.com/openai/CLIP.git\n",
    "# %pip install tree\n",
    "\n",
    "import os, urllib.request, json\n",
    "from serpapi import GoogleSearch\n",
    "from urllib.error import HTTPError\n",
    "import pandas as pd\n",
    "import numpy as np\n",
    "import torch\n",
    "import clip\n",
    "import os\n",
    "import skimage\n",
    "import IPython.display\n",
    "import matplotlib.pyplot as plt\n",
    "from PIL import Image\n",
    "from collections import OrderedDict\n",
    "\n",
    "%matplotlib inline\n",
    "%config InlineBackend.figure_format = 'retina'\n",
    "\n",
    "pd.set_option(\"colwidth\", None)\n"
   ]
  },
  {
   "cell_type": "markdown",
   "id": "olive-binary",
   "metadata": {
    "cellId": "zor988dhu6cc7gtj01ly5",
    "execution_id": "847c3e2b-2d42-4100-80e5-a00e3f2c7368"
   },
   "source": [
    "## Functions to download images"
   ]
  },
  {
   "cell_type": "code",
   "execution_count": 2,
   "id": "illegal-fiction",
   "metadata": {
    "cellId": "2p3gdcikv7pe7nadzuiwrg"
   },
   "outputs": [],
   "source": [
    "def check_folders(path):\n",
    "    if not os.path.exists(path):\n",
    "        os.makedirs(path)"
   ]
  },
  {
   "cell_type": "code",
   "execution_count": 3,
   "id": "successful-salem",
   "metadata": {
    "cellId": "gq215n5u4nr4t96pmb6p"
   },
   "outputs": [],
   "source": [
    "def get_config(index, lang, titles, num_images):\n",
    "    config = {\n",
    "        \"lang\": lang,\n",
    "        \"query\": titles.at[index, lang],\n",
    "        \"label\": 'fake' * titles.at[index, 'label'] + 'legit' * (1 - titles.at[index, 'label']),\n",
    "        \"filename\": titles.at[index, 'filename'][:-4],\n",
    "        \"num_images\": num_images\n",
    "            }\n",
    "    return config"
   ]
  },
  {
   "cell_type": "code",
   "execution_count": 4,
   "id": "renewable-kuwait",
   "metadata": {
    "cellId": "xyo4895vjgdfg07qlbr37"
   },
   "outputs": [],
   "source": [
    "def get_google_images(config, serpapi_key, verbosity=0):\n",
    "    params = {\n",
    "      \"api_key\": serpapi_key,\n",
    "      \"engine\": \"google\", #\"google\",\n",
    "      \"q\": config[\"query\"],\n",
    "      \"tbm\": \"isch\"\n",
    "    }\n",
    "    path = f\"./images/{config['label']}/{config['filename']}/{config['lang']}/\"\n",
    "    check_folders(path)\n",
    "\n",
    "    search = GoogleSearch(params)\n",
    "    results = search.get_dict()\n",
    "    k = 0\n",
    "\n",
    "    if 'images_results' in results.keys():\n",
    "        for image in results['images_results']:\n",
    "            if k == config[\"num_images\"]:\n",
    "                if verbosity > 0:\n",
    "                    print(f\"Downloaded images for {config['filename']} news in {config['lang']} language.\")\n",
    "                break\n",
    "            if verbosity > 1:\n",
    "                print(f\"Downloading {k} image for {config['filename']} news in {config['lang']} language.\")\n",
    "            opener=urllib.request.build_opener()\n",
    "            opener.addheaders=[('User-Agent','Mozilla/5.0 (Windows NT 10.0; Win64; x64) AppleWebKit/537.36 (KHTML, like Gecko) Chrome/70.0.3538.102 Safari/537.36 Edge/18.19582')]\n",
    "            urllib.request.install_opener(opener)\n",
    "            try:\n",
    "                urllib.request.urlretrieve(image['original'], f\"{path}{config['filename']}_{config['lang']}_img{k}.jpg\")\n",
    "                k += 1\n",
    "            except Exception:\n",
    "                if verbosity > 1:\n",
    "                    print(\"Image skipped due to error\")"
   ]
  },
  {
   "cell_type": "code",
   "execution_count": 5,
   "id": "virgin-belfast",
   "metadata": {
    "cellId": "uy73vi92n4ha8uciwv1e5"
   },
   "outputs": [],
   "source": [
    "def download_one_news(index, titles, languages, num_images, serpapi_key, verbosity=0):\n",
    "    for lang in languages:\n",
    "        config = get_config(index, lang, titles, num_images)\n",
    "        get_google_images(config, serpapi_key, verbosity=verbosity)\n",
    "    print(f\"Downloaded all images for {config['filename']} news.\")"
   ]
  },
  {
   "cell_type": "markdown",
   "id": "viral-insulin",
   "metadata": {
    "cellId": "gdujpsp2y17ku7a4hop7qg",
    "execution_id": "112e00b4-cb13-4511-93e8-96dd24bd7aad"
   },
   "source": [
    "## Load the titles"
   ]
  },
  {
   "cell_type": "code",
   "execution_count": 6,
   "id": "cognitive-findings",
   "metadata": {
    "cellId": "wyqucqt1yanwqch9xmw8"
   },
   "outputs": [
    {
     "data": {
      "text/html": [
       "<div>\n",
       "<style scoped>\n",
       "    .dataframe tbody tr th:only-of-type {\n",
       "        vertical-align: middle;\n",
       "    }\n",
       "\n",
       "    .dataframe tbody tr th {\n",
       "        vertical-align: top;\n",
       "    }\n",
       "\n",
       "    .dataframe thead th {\n",
       "        text-align: right;\n",
       "    }\n",
       "</style>\n",
       "<table border=\"1\" class=\"dataframe\">\n",
       "  <thead>\n",
       "    <tr style=\"text-align: right;\">\n",
       "      <th></th>\n",
       "      <th>file</th>\n",
       "      <th>headline</th>\n",
       "      <th>fr</th>\n",
       "      <th>de</th>\n",
       "      <th>es</th>\n",
       "      <th>ru</th>\n",
       "      <th>is_fake</th>\n",
       "    </tr>\n",
       "  </thead>\n",
       "  <tbody>\n",
       "    <tr>\n",
       "      <th>0</th>\n",
       "      <td>007fake.txt</td>\n",
       "      <td>Jennifer Aniston on the Exact Moment She Had It With the Pregnancy Rumors</td>\n",
       "      <td>Jennifer Aniston au moment exact où elle a eu avec les rumeurs de grossesse.</td>\n",
       "      <td>Jennifer Aniston in dem Moment, in dem sie es mit den Schwangerschaftsgerüchten hatte.</td>\n",
       "      <td>Jennifer Aniston en el momento exacto que lo tuvo con los rumores de embarazo.</td>\n",
       "      <td>Дженнифер Энистон в тот момент, когда у нее есть слухи о беременности.</td>\n",
       "      <td>1</td>\n",
       "    </tr>\n",
       "    <tr>\n",
       "      <th>1</th>\n",
       "      <td>022fake.txt</td>\n",
       "      <td>Taylor Swift 'files documents to launch streaming service'</td>\n",
       "      <td>Taylor Swift «Documents de fichiers pour lancer le service de streaming».</td>\n",
       "      <td>Taylor Swift 'Dateien dokumentiert, um den Streaming -Dienst zu starten'.</td>\n",
       "      <td>Taylor Swift 'archiva documentos para iniciar el servicio de transmisión'.</td>\n",
       "      <td>Taylor Swift 'Files Documents для запуска потоковой службы'.</td>\n",
       "      <td>1</td>\n",
       "    </tr>\n",
       "    <tr>\n",
       "      <th>2</th>\n",
       "      <td>009fake.txt</td>\n",
       "      <td>Miley Cyrus Wedding Rumors: Will Miley Force Liam Hemsworth To Sign A Prenup?</td>\n",
       "      <td>Miley Cyrus Rumeurs de mariage: Miley forcera-t-elle Liam Hemsworth à signer un contrat de contrat?.</td>\n",
       "      <td>Miley Cyrus Hochzeitsgerüchte: Wird Miley Liam Hemsworth dazu zwingen, ein Prenup zu unterschreiben?.</td>\n",
       "      <td>Rumores de boda de Miley Cyrus: ¿Miley forzará a Liam Hemsworth firmar un prenupc?.</td>\n",
       "      <td>Свадебные слухи Майли Сайрус: Сможет ли Майли Форс Лиам Хемсворт подписать премьер?.</td>\n",
       "      <td>1</td>\n",
       "    </tr>\n",
       "    <tr>\n",
       "      <th>3</th>\n",
       "      <td>024fake.txt</td>\n",
       "      <td>Justin Bieber pokes fun at himself after stepping out with an wet mark</td>\n",
       "      <td>Justin Bieber se moque de lui-même après avoir quitté une marque humide.</td>\n",
       "      <td>Justin Bieber macht sich lustig an sich, nachdem er mit einer nassen Marke ausgetreten ist.</td>\n",
       "      <td>Justin Bieber se burla de sí mismo después de salir con una marca húmeda.</td>\n",
       "      <td>Джастин Бибер высмеивает себя после того, как вышел с влажной отметки.</td>\n",
       "      <td>1</td>\n",
       "    </tr>\n",
       "    <tr>\n",
       "      <th>4</th>\n",
       "      <td>002fake.txt</td>\n",
       "      <td>Brad Pitt Texts Jennifer Aniston Nonstop: Seeks Intense Emotional Support After Angelina Jolie Divorce! | Celeb Dirty Laundry</td>\n",
       "      <td>Brad Pitt envoie des SMS à Jennifer Aniston sans escale: cherche un soutien émotionnel intense après le divorce d'Angelina Jolie! | Laverie sale de célébrité.</td>\n",
       "      <td>Brad Pitt Texte Jennifer Aniston Nonstop: sucht intensive emotionale Unterstützung nach der Scheidung von Angelina Jolie! | Promi Dirty Wäsche.</td>\n",
       "      <td>Brad Pitt texts Jennifer Aniston Nonstop: ¡busca un intenso apoyo emocional después de Angelina Jolie Divorce! | Celeb Dirty Laundry.</td>\n",
       "      <td>Брэд Питт текстов Дженнифер Энистон Неустановка: ищет интенсивную эмоциональную поддержку после развода Анджелины Джоли! | Знаменитость грязное прачечная.</td>\n",
       "      <td>1</td>\n",
       "    </tr>\n",
       "  </tbody>\n",
       "</table>\n",
       "</div>"
      ],
      "text/plain": [
       "          file  \\\n",
       "0  007fake.txt   \n",
       "1  022fake.txt   \n",
       "2  009fake.txt   \n",
       "3  024fake.txt   \n",
       "4  002fake.txt   \n",
       "\n",
       "                                                                                                                        headline  \\\n",
       "0                                                      Jennifer Aniston on the Exact Moment She Had It With the Pregnancy Rumors   \n",
       "1                                                                     Taylor Swift 'files documents to launch streaming service'   \n",
       "2                                                  Miley Cyrus Wedding Rumors: Will Miley Force Liam Hemsworth To Sign A Prenup?   \n",
       "3                                                         Justin Bieber pokes fun at himself after stepping out with an wet mark   \n",
       "4  Brad Pitt Texts Jennifer Aniston Nonstop: Seeks Intense Emotional Support After Angelina Jolie Divorce! | Celeb Dirty Laundry   \n",
       "\n",
       "                                                                                                                                                               fr  \\\n",
       "0                                                                                    Jennifer Aniston au moment exact où elle a eu avec les rumeurs de grossesse.   \n",
       "1                                                                                       Taylor Swift «Documents de fichiers pour lancer le service de streaming».   \n",
       "2                                                            Miley Cyrus Rumeurs de mariage: Miley forcera-t-elle Liam Hemsworth à signer un contrat de contrat?.   \n",
       "3                                                                                        Justin Bieber se moque de lui-même après avoir quitté une marque humide.   \n",
       "4  Brad Pitt envoie des SMS à Jennifer Aniston sans escale: cherche un soutien émotionnel intense après le divorce d'Angelina Jolie! | Laverie sale de célébrité.   \n",
       "\n",
       "                                                                                                                                                de  \\\n",
       "0                                                           Jennifer Aniston in dem Moment, in dem sie es mit den Schwangerschaftsgerüchten hatte.   \n",
       "1                                                                        Taylor Swift 'Dateien dokumentiert, um den Streaming -Dienst zu starten'.   \n",
       "2                                            Miley Cyrus Hochzeitsgerüchte: Wird Miley Liam Hemsworth dazu zwingen, ein Prenup zu unterschreiben?.   \n",
       "3                                                      Justin Bieber macht sich lustig an sich, nachdem er mit einer nassen Marke ausgetreten ist.   \n",
       "4  Brad Pitt Texte Jennifer Aniston Nonstop: sucht intensive emotionale Unterstützung nach der Scheidung von Angelina Jolie! | Promi Dirty Wäsche.   \n",
       "\n",
       "                                                                                                                                      es  \\\n",
       "0                                                         Jennifer Aniston en el momento exacto que lo tuvo con los rumores de embarazo.   \n",
       "1                                                             Taylor Swift 'archiva documentos para iniciar el servicio de transmisión'.   \n",
       "2                                                    Rumores de boda de Miley Cyrus: ¿Miley forzará a Liam Hemsworth firmar un prenupc?.   \n",
       "3                                                              Justin Bieber se burla de sí mismo después de salir con una marca húmeda.   \n",
       "4  Brad Pitt texts Jennifer Aniston Nonstop: ¡busca un intenso apoyo emocional después de Angelina Jolie Divorce! | Celeb Dirty Laundry.   \n",
       "\n",
       "                                                                                                                                                           ru  \\\n",
       "0                                                                                      Дженнифер Энистон в тот момент, когда у нее есть слухи о беременности.   \n",
       "1                                                                                                Taylor Swift 'Files Documents для запуска потоковой службы'.   \n",
       "2                                                                        Свадебные слухи Майли Сайрус: Сможет ли Майли Форс Лиам Хемсворт подписать премьер?.   \n",
       "3                                                                                      Джастин Бибер высмеивает себя после того, как вышел с влажной отметки.   \n",
       "4  Брэд Питт текстов Дженнифер Энистон Неустановка: ищет интенсивную эмоциональную поддержку после развода Анджелины Джоли! | Знаменитость грязное прачечная.   \n",
       "\n",
       "   is_fake  \n",
       "0        1  \n",
       "1        1  \n",
       "2        1  \n",
       "3        1  \n",
       "4        1  "
      ]
     },
     "execution_count": 6,
     "metadata": {},
     "output_type": "execute_result"
    }
   ],
   "source": [
    "titles = pd.read_csv(\"./125fake_125legit.csv\")\n",
    "titles.head()"
   ]
  },
  {
   "cell_type": "code",
   "execution_count": 7,
   "id": "premier-evidence",
   "metadata": {
    "cellId": "g0slyhj6jph9919glw2165"
   },
   "outputs": [
    {
     "data": {
      "text/html": [
       "<div>\n",
       "<style scoped>\n",
       "    .dataframe tbody tr th:only-of-type {\n",
       "        vertical-align: middle;\n",
       "    }\n",
       "\n",
       "    .dataframe tbody tr th {\n",
       "        vertical-align: top;\n",
       "    }\n",
       "\n",
       "    .dataframe thead th {\n",
       "        text-align: right;\n",
       "    }\n",
       "</style>\n",
       "<table border=\"1\" class=\"dataframe\">\n",
       "  <thead>\n",
       "    <tr style=\"text-align: right;\">\n",
       "      <th></th>\n",
       "      <th>filename</th>\n",
       "      <th>en</th>\n",
       "      <th>fr</th>\n",
       "      <th>de</th>\n",
       "      <th>es</th>\n",
       "      <th>ru</th>\n",
       "      <th>label</th>\n",
       "    </tr>\n",
       "  </thead>\n",
       "  <tbody>\n",
       "    <tr>\n",
       "      <th>0</th>\n",
       "      <td>007fake.txt</td>\n",
       "      <td>Jennifer Aniston on the Exact Moment She Had It With the Pregnancy Rumors</td>\n",
       "      <td>Jennifer Aniston au moment exact où elle a eu avec les rumeurs de grossesse.</td>\n",
       "      <td>Jennifer Aniston in dem Moment, in dem sie es mit den Schwangerschaftsgerüchten hatte.</td>\n",
       "      <td>Jennifer Aniston en el momento exacto que lo tuvo con los rumores de embarazo.</td>\n",
       "      <td>Дженнифер Энистон в тот момент, когда у нее есть слухи о беременности.</td>\n",
       "      <td>1</td>\n",
       "    </tr>\n",
       "    <tr>\n",
       "      <th>1</th>\n",
       "      <td>022fake.txt</td>\n",
       "      <td>Taylor Swift 'files documents to launch streaming service'</td>\n",
       "      <td>Taylor Swift «Documents de fichiers pour lancer le service de streaming».</td>\n",
       "      <td>Taylor Swift 'Dateien dokumentiert, um den Streaming -Dienst zu starten'.</td>\n",
       "      <td>Taylor Swift 'archiva documentos para iniciar el servicio de transmisión'.</td>\n",
       "      <td>Taylor Swift 'Files Documents для запуска потоковой службы'.</td>\n",
       "      <td>1</td>\n",
       "    </tr>\n",
       "    <tr>\n",
       "      <th>2</th>\n",
       "      <td>009fake.txt</td>\n",
       "      <td>Miley Cyrus Wedding Rumors: Will Miley Force Liam Hemsworth To Sign A Prenup?</td>\n",
       "      <td>Miley Cyrus Rumeurs de mariage: Miley forcera-t-elle Liam Hemsworth à signer un contrat de contrat?.</td>\n",
       "      <td>Miley Cyrus Hochzeitsgerüchte: Wird Miley Liam Hemsworth dazu zwingen, ein Prenup zu unterschreiben?.</td>\n",
       "      <td>Rumores de boda de Miley Cyrus: ¿Miley forzará a Liam Hemsworth firmar un prenupc?.</td>\n",
       "      <td>Свадебные слухи Майли Сайрус: Сможет ли Майли Форс Лиам Хемсворт подписать премьер?.</td>\n",
       "      <td>1</td>\n",
       "    </tr>\n",
       "    <tr>\n",
       "      <th>3</th>\n",
       "      <td>024fake.txt</td>\n",
       "      <td>Justin Bieber pokes fun at himself after stepping out with an wet mark</td>\n",
       "      <td>Justin Bieber se moque de lui-même après avoir quitté une marque humide.</td>\n",
       "      <td>Justin Bieber macht sich lustig an sich, nachdem er mit einer nassen Marke ausgetreten ist.</td>\n",
       "      <td>Justin Bieber se burla de sí mismo después de salir con una marca húmeda.</td>\n",
       "      <td>Джастин Бибер высмеивает себя после того, как вышел с влажной отметки.</td>\n",
       "      <td>1</td>\n",
       "    </tr>\n",
       "    <tr>\n",
       "      <th>4</th>\n",
       "      <td>002fake.txt</td>\n",
       "      <td>Brad Pitt Texts Jennifer Aniston Nonstop: Seeks Intense Emotional Support After Angelina Jolie Divorce! | Celeb Dirty Laundry</td>\n",
       "      <td>Brad Pitt envoie des SMS à Jennifer Aniston sans escale: cherche un soutien émotionnel intense après le divorce d'Angelina Jolie! | Laverie sale de célébrité.</td>\n",
       "      <td>Brad Pitt Texte Jennifer Aniston Nonstop: sucht intensive emotionale Unterstützung nach der Scheidung von Angelina Jolie! | Promi Dirty Wäsche.</td>\n",
       "      <td>Brad Pitt texts Jennifer Aniston Nonstop: ¡busca un intenso apoyo emocional después de Angelina Jolie Divorce! | Celeb Dirty Laundry.</td>\n",
       "      <td>Брэд Питт текстов Дженнифер Энистон Неустановка: ищет интенсивную эмоциональную поддержку после развода Анджелины Джоли! | Знаменитость грязное прачечная.</td>\n",
       "      <td>1</td>\n",
       "    </tr>\n",
       "  </tbody>\n",
       "</table>\n",
       "</div>"
      ],
      "text/plain": [
       "      filename  \\\n",
       "0  007fake.txt   \n",
       "1  022fake.txt   \n",
       "2  009fake.txt   \n",
       "3  024fake.txt   \n",
       "4  002fake.txt   \n",
       "\n",
       "                                                                                                                              en  \\\n",
       "0                                                      Jennifer Aniston on the Exact Moment She Had It With the Pregnancy Rumors   \n",
       "1                                                                     Taylor Swift 'files documents to launch streaming service'   \n",
       "2                                                  Miley Cyrus Wedding Rumors: Will Miley Force Liam Hemsworth To Sign A Prenup?   \n",
       "3                                                         Justin Bieber pokes fun at himself after stepping out with an wet mark   \n",
       "4  Brad Pitt Texts Jennifer Aniston Nonstop: Seeks Intense Emotional Support After Angelina Jolie Divorce! | Celeb Dirty Laundry   \n",
       "\n",
       "                                                                                                                                                               fr  \\\n",
       "0                                                                                    Jennifer Aniston au moment exact où elle a eu avec les rumeurs de grossesse.   \n",
       "1                                                                                       Taylor Swift «Documents de fichiers pour lancer le service de streaming».   \n",
       "2                                                            Miley Cyrus Rumeurs de mariage: Miley forcera-t-elle Liam Hemsworth à signer un contrat de contrat?.   \n",
       "3                                                                                        Justin Bieber se moque de lui-même après avoir quitté une marque humide.   \n",
       "4  Brad Pitt envoie des SMS à Jennifer Aniston sans escale: cherche un soutien émotionnel intense après le divorce d'Angelina Jolie! | Laverie sale de célébrité.   \n",
       "\n",
       "                                                                                                                                                de  \\\n",
       "0                                                           Jennifer Aniston in dem Moment, in dem sie es mit den Schwangerschaftsgerüchten hatte.   \n",
       "1                                                                        Taylor Swift 'Dateien dokumentiert, um den Streaming -Dienst zu starten'.   \n",
       "2                                            Miley Cyrus Hochzeitsgerüchte: Wird Miley Liam Hemsworth dazu zwingen, ein Prenup zu unterschreiben?.   \n",
       "3                                                      Justin Bieber macht sich lustig an sich, nachdem er mit einer nassen Marke ausgetreten ist.   \n",
       "4  Brad Pitt Texte Jennifer Aniston Nonstop: sucht intensive emotionale Unterstützung nach der Scheidung von Angelina Jolie! | Promi Dirty Wäsche.   \n",
       "\n",
       "                                                                                                                                      es  \\\n",
       "0                                                         Jennifer Aniston en el momento exacto que lo tuvo con los rumores de embarazo.   \n",
       "1                                                             Taylor Swift 'archiva documentos para iniciar el servicio de transmisión'.   \n",
       "2                                                    Rumores de boda de Miley Cyrus: ¿Miley forzará a Liam Hemsworth firmar un prenupc?.   \n",
       "3                                                              Justin Bieber se burla de sí mismo después de salir con una marca húmeda.   \n",
       "4  Brad Pitt texts Jennifer Aniston Nonstop: ¡busca un intenso apoyo emocional después de Angelina Jolie Divorce! | Celeb Dirty Laundry.   \n",
       "\n",
       "                                                                                                                                                           ru  \\\n",
       "0                                                                                      Дженнифер Энистон в тот момент, когда у нее есть слухи о беременности.   \n",
       "1                                                                                                Taylor Swift 'Files Documents для запуска потоковой службы'.   \n",
       "2                                                                        Свадебные слухи Майли Сайрус: Сможет ли Майли Форс Лиам Хемсворт подписать премьер?.   \n",
       "3                                                                                      Джастин Бибер высмеивает себя после того, как вышел с влажной отметки.   \n",
       "4  Брэд Питт текстов Дженнифер Энистон Неустановка: ищет интенсивную эмоциональную поддержку после развода Анджелины Джоли! | Знаменитость грязное прачечная.   \n",
       "\n",
       "   label  \n",
       "0      1  \n",
       "1      1  \n",
       "2      1  \n",
       "3      1  \n",
       "4      1  "
      ]
     },
     "execution_count": 7,
     "metadata": {},
     "output_type": "execute_result"
    }
   ],
   "source": [
    "titles = titles.rename(columns={'headline': 'en', 'file': 'filename', 'is_fake': 'label'})\n",
    "titles.head()"
   ]
  },
  {
   "cell_type": "markdown",
   "id": "limited-pocket",
   "metadata": {
    "cellId": "6q17x4o5034quz1u2xhv4m",
    "execution_id": "4e1044df-ee0a-4b1c-8f62-fdef5c9a523b"
   },
   "source": [
    "## Downloading images"
   ]
  },
  {
   "cell_type": "code",
   "execution_count": 15,
   "id": "controversial-investment",
   "metadata": {
    "cellId": "tntk46c29lcaibe17h9z6"
   },
   "outputs": [],
   "source": [
    "serpapi_key = 'Your API key here'\n",
    "languages = ['de', 'fr', 'en', 'es', 'ru']\n",
    "num_images = 10\n",
    "\n",
    "for index in range(len(titles)):\n",
    "    print(f'Downloading images for {index} news...')\n",
    "    download_one_news(index, titles, languages, num_images, serpapi_key, verbosity=2)"
   ]
  },
  {
   "cell_type": "markdown",
   "id": "proved-duplicate",
   "metadata": {
    "cellId": "wor3h1i0fz97kj72qc3jf",
    "execution_id": "86e130eb-48c4-4006-86a9-d917622451ca"
   },
   "source": [
    "# Make new features with CLIP"
   ]
  },
  {
   "cell_type": "markdown",
   "id": "applicable-lobby",
   "metadata": {
    "cellId": "9fzbwegscogpaqp6e2nrwn",
    "execution_id": "02c3729f-3d87-48f8-9e34-e75dd67bc47b"
   },
   "source": [
    "## Load images from folders"
   ]
  },
  {
   "cell_type": "code",
   "execution_count": 8,
   "id": "compact-yorkshire",
   "metadata": {
    "cellId": "2addp2pjyegqkb1kucdlhm"
   },
   "outputs": [],
   "source": [
    "def load_images(index, titles, languages = ['de', 'es', 'ru', 'en', 'fr']):\n",
    "    config = get_config(index, languages[0], titles, 0)\n",
    "    data_dir = f\"./images/{config['label']}/{config['filename']}/\"\n",
    "    original_images = {}\n",
    "    images = {}\n",
    "\n",
    "    for lang in languages:\n",
    "        config = get_config(index, lang, titles, 0)\n",
    "        original_images[lang] = []\n",
    "        images[lang] = []\n",
    "        data_dir_lang = data_dir + f\"{config['lang']}/\"            \n",
    "        n_images_exist = len(os.listdir(data_dir_lang))\n",
    "        for i in range(n_images_exist):\n",
    "            try:\n",
    "                \n",
    "                filename = data_dir_lang + f\"{config['filename']}_{config['lang']}_img{i}.jpg\"\n",
    "                image = Image.open(filename).convert(\"RGB\")\n",
    "                original_images[lang].append(image)\n",
    "                images[lang].append(preprocess(image))\n",
    "            except FileNotFoundError:\n",
    "                pass\n",
    "            \n",
    "    return original_images, images"
   ]
  },
  {
   "cell_type": "markdown",
   "id": "musical-medication",
   "metadata": {
    "cellId": "q1mwbktn9ogf2x26lhqjht",
    "execution_id": "ac2b4a70-fb7f-4ad2-99b3-56ff1da9f938"
   },
   "source": [
    "## Calculate cosine similarities between images"
   ]
  },
  {
   "cell_type": "code",
   "execution_count": 9,
   "id": "lucky-anniversary",
   "metadata": {
    "cellId": "dspochqzllqc4rfkxt8a44"
   },
   "outputs": [],
   "source": [
    "def cos_sims_for_one_news(index, titles, languages, language_pairs, model):\n",
    "    original_images, images = load_images(index, titles, languages = languages)\n",
    "    lang_images_dict = {}\n",
    "    \n",
    "    for lang in images:\n",
    "        if len(images[lang]) > 0:\n",
    "            lang_images_dict[lang] = torch.tensor(np.stack(images[lang])).cuda()\n",
    "        else:\n",
    "            lang_images_dict[lang] = None\n",
    "    \n",
    "    def sim_score(pair, image_features):\n",
    "        return (image_features[pair[0]].cpu().numpy() @ image_features[pair[1]].cpu().numpy().T).mean()\n",
    "    \n",
    "    with torch.no_grad():\n",
    "        image_features = {}\n",
    "        for lang in lang_images_dict.keys():\n",
    "            if lang_images_dict[lang] is not None:\n",
    "                image_features[lang] = model.encode_image(lang_images_dict[lang]).float()\n",
    "                image_features[lang] /= image_features[lang].norm(dim=-1, keepdim=True)\n",
    "            else:\n",
    "                image_features[lang] = torch.zeros([1, 512]).cuda()\n",
    "        similarities = {pair: sim_score(pair, image_features) for pair in language_pairs}\n",
    "    return similarities"
   ]
  },
  {
   "cell_type": "markdown",
   "id": "incredible-third",
   "metadata": {
    "cellId": "6niogpzi7lbfy9kig8x5a",
    "execution_id": "2d241ff2-f1bc-44fa-9eef-8c859b2d7c12"
   },
   "source": [
    "## Initialize model, calculate similarities "
   ]
  },
  {
   "cell_type": "code",
   "execution_count": 46,
   "id": "awful-perry",
   "metadata": {
    "cellId": "72p1fz3nbu6bhxxchehtd"
   },
   "outputs": [],
   "source": [
    "# #!g1.1\n",
    "model, preprocess = clip.load(\"ViT-B/32\")\n",
    "model.cuda().eval()\n",
    "language_pairs = [('en', 'de'), ('en', 'es'), ('en', 'fr'), ('en', 'ru')]\n",
    "for pair in language_pairs:\n",
    "    titles[f'{pair[0]}-{pair[1]}'] = 0"
   ]
  },
  {
   "cell_type": "code",
   "execution_count": 11,
   "id": "about-composite",
   "metadata": {},
   "outputs": [],
   "source": [
    "titles_with_image_similarities = pd.read_csv('titles_with_image_similarities.csv')"
   ]
  },
  {
   "cell_type": "code",
   "execution_count": 34,
   "id": "forbidden-blood",
   "metadata": {
    "cellId": "lw1o72x34vs1of239hw5j"
   },
   "outputs": [
    {
     "name": "stdout",
     "output_type": "stream",
     "text": [
      "Calculating similarities for 1 news...\n",
      "{('en', 'de'): 0.7408916, ('en', 'es'): 0.7318494, ('en', 'fr'): 0.6617593, ('en', 'ru'): 0.68455535}\n",
      "Calculating similarities for 2 news...\n"
     ]
    },
    {
     "name": "stderr",
     "output_type": "stream",
     "text": [
      "/home/aleksandr/miniconda3/lib/python3.8/site-packages/PIL/Image.py:996: UserWarning: Palette images with Transparency expressed in bytes should be converted to RGBA images\n",
      "  warnings.warn(\n"
     ]
    },
    {
     "name": "stdout",
     "output_type": "stream",
     "text": [
      "{('en', 'de'): 0.45779538, ('en', 'es'): 0.0, ('en', 'fr'): 0.70839745, ('en', 'ru'): 0.7495389}\n",
      "Calculating similarities for 3 news...\n",
      "{('en', 'de'): 0.7692871, ('en', 'es'): 0.5929646, ('en', 'fr'): 0.7557569, ('en', 'ru'): 0.69038534}\n",
      "Calculating similarities for 4 news...\n",
      "{('en', 'de'): 0.0, ('en', 'es'): 0.6007725, ('en', 'fr'): 0.5921936, ('en', 'ru'): 0.6267605}\n",
      "Calculating similarities for 5 news...\n",
      "{('en', 'de'): 0.6701048, ('en', 'es'): 0.559618, ('en', 'fr'): 0.6555879, ('en', 'ru'): 0.6701938}\n",
      "Calculating similarities for 6 news...\n",
      "{('en', 'de'): 0.7621966, ('en', 'es'): 0.73825717, ('en', 'fr'): 0.69917417, ('en', 'ru'): 0.75094604}\n",
      "Calculating similarities for 7 news...\n",
      "{('en', 'de'): 0.70103335, ('en', 'es'): 0.69034773, ('en', 'fr'): 0.69672483, ('en', 'ru'): 0.6592448}\n",
      "Calculating similarities for 8 news...\n",
      "{('en', 'de'): 0.65023696, ('en', 'es'): 0.7421864, ('en', 'fr'): 0.68216604, ('en', 'ru'): 0.70168245}\n",
      "Calculating similarities for 9 news...\n",
      "{('en', 'de'): 0.6406971, ('en', 'es'): 0.65087456, ('en', 'fr'): 0.66443026, ('en', 'ru'): 0.642564}\n",
      "Calculating similarities for 10 news...\n",
      "{('en', 'de'): 0.6014999, ('en', 'es'): 0.62159127, ('en', 'fr'): 0.0, ('en', 'ru'): 0.0}\n",
      "Calculating similarities for 11 news...\n",
      "{('en', 'de'): 0.5979688, ('en', 'es'): 0.6467718, ('en', 'fr'): 0.65407175, ('en', 'ru'): 0.59988683}\n",
      "Calculating similarities for 12 news...\n",
      "{('en', 'de'): 0.9112042, ('en', 'es'): 0.91868556, ('en', 'fr'): 0.9010941, ('en', 'ru'): 0.9121971}\n",
      "Calculating similarities for 13 news...\n",
      "{('en', 'de'): 0.578941, ('en', 'es'): 0.573041, ('en', 'fr'): 0.578941, ('en', 'ru'): 0.576496}\n",
      "Calculating similarities for 14 news...\n",
      "{('en', 'de'): 0.7399682, ('en', 'es'): 0.73080504, ('en', 'fr'): 0.7438009, ('en', 'ru'): 0.0}\n",
      "Calculating similarities for 15 news...\n",
      "{('en', 'de'): 0.59660745, ('en', 'es'): 0.5761104, ('en', 'fr'): 0.5995949, ('en', 'ru'): 0.3558939}\n",
      "Calculating similarities for 16 news...\n",
      "{('en', 'de'): 0.4424855, ('en', 'es'): 0.6921024, ('en', 'fr'): 0.6903345, ('en', 'ru'): 0.59054196}\n",
      "Calculating similarities for 17 news...\n",
      "{('en', 'de'): 0.45496285, ('en', 'es'): 0.75554585, ('en', 'fr'): 0.7760501, ('en', 'ru'): 0.78326124}\n",
      "Calculating similarities for 18 news...\n",
      "{('en', 'de'): 0.35853255, ('en', 'es'): 0.73333704, ('en', 'fr'): 0.7271007, ('en', 'ru'): 0.0}\n",
      "Calculating similarities for 19 news...\n",
      "{('en', 'de'): 0.6876453, ('en', 'es'): 0.7161976, ('en', 'fr'): 0.55720264, ('en', 'ru'): 0.7094585}\n",
      "Calculating similarities for 20 news...\n",
      "{('en', 'de'): 0.64413315, ('en', 'es'): 0.64429224, ('en', 'fr'): 0.6060945, ('en', 'ru'): 0.6372895}\n",
      "Calculating similarities for 21 news...\n",
      "{('en', 'de'): 0.67575765, ('en', 'es'): 0.6624423, ('en', 'fr'): 0.67068243, ('en', 'ru'): 0.65579504}\n",
      "Calculating similarities for 22 news...\n",
      "{('en', 'de'): 0.7208318, ('en', 'es'): 0.7617744, ('en', 'fr'): 0.7518927, ('en', 'ru'): 0.68696105}\n",
      "Calculating similarities for 23 news...\n",
      "{('en', 'de'): 0.74740756, ('en', 'es'): 0.68378603, ('en', 'fr'): 0.7331001, ('en', 'ru'): 0.6916463}\n",
      "Calculating similarities for 24 news...\n",
      "{('en', 'de'): 0.6786861, ('en', 'es'): 0.65871155, ('en', 'fr'): 0.59001327, ('en', 'ru'): 0.67473465}\n",
      "Calculating similarities for 25 news...\n",
      "{('en', 'de'): 0.0, ('en', 'es'): 0.61528265, ('en', 'fr'): 0.57491076, ('en', 'ru'): 0.4897536}\n",
      "Calculating similarities for 26 news...\n",
      "{('en', 'de'): 0.7085196, ('en', 'es'): 0.68397295, ('en', 'fr'): 0.68960834, ('en', 'ru'): 0.6367594}\n",
      "Calculating similarities for 27 news...\n",
      "{('en', 'de'): 0.6008041, ('en', 'es'): 0.59335136, ('en', 'fr'): 0.5998152, ('en', 'ru'): 0.53044677}\n",
      "Calculating similarities for 28 news...\n",
      "{('en', 'de'): 0.6823872, ('en', 'es'): 0.64732885, ('en', 'fr'): 0.68872565, ('en', 'ru'): 0.6438663}\n",
      "Calculating similarities for 29 news...\n",
      "{('en', 'de'): 0.0, ('en', 'es'): 0.5211937, ('en', 'fr'): 0.3465686, ('en', 'ru'): 0.4025527}\n",
      "Calculating similarities for 30 news...\n",
      "{('en', 'de'): 0.432815, ('en', 'es'): 0.44854277, ('en', 'fr'): 0.53095907, ('en', 'ru'): 0.44297925}\n",
      "Calculating similarities for 31 news...\n",
      "{('en', 'de'): 0.60628754, ('en', 'es'): 0.62629974, ('en', 'fr'): 0.661513, ('en', 'ru'): 0.5977217}\n",
      "Calculating similarities for 32 news...\n",
      "{('en', 'de'): 0.57062274, ('en', 'es'): 0.58185786, ('en', 'fr'): 0.33085296, ('en', 'ru'): 0.42938513}\n",
      "Calculating similarities for 33 news...\n",
      "{('en', 'de'): 0.53507376, ('en', 'es'): 0.38836986, ('en', 'fr'): 0.412959, ('en', 'ru'): 0.6136258}\n",
      "Calculating similarities for 34 news...\n",
      "{('en', 'de'): 0.6841941, ('en', 'es'): 0.6729398, ('en', 'fr'): 0.6687722, ('en', 'ru'): 0.57897455}\n",
      "Calculating similarities for 35 news...\n",
      "{('en', 'de'): 0.64822805, ('en', 'es'): 0.71025294, ('en', 'fr'): 0.7960551, ('en', 'ru'): 0.76727194}\n",
      "Calculating similarities for 126 news...\n",
      "{('en', 'de'): 0.5150671, ('en', 'es'): 0.6159176, ('en', 'fr'): 0.5982917, ('en', 'ru'): 0.5048944}\n",
      "Calculating similarities for 127 news...\n",
      "{('en', 'de'): 0.6889333, ('en', 'es'): 0.6406892, ('en', 'fr'): 0.7230257, ('en', 'ru'): 0.73354936}\n",
      "Calculating similarities for 128 news...\n",
      "{('en', 'de'): 0.8088553, ('en', 'es'): 0.7013697, ('en', 'fr'): 0.71503973, ('en', 'ru'): 0.7351931}\n",
      "Calculating similarities for 129 news...\n",
      "{('en', 'de'): 0.74904984, ('en', 'es'): 0.73757064, ('en', 'fr'): 0.64852214, ('en', 'ru'): 0.69328165}\n",
      "Calculating similarities for 130 news...\n",
      "{('en', 'de'): 0.7946197, ('en', 'es'): 0.75819594, ('en', 'fr'): 0.8181076, ('en', 'ru'): 0.74936104}\n",
      "Calculating similarities for 131 news...\n",
      "{('en', 'de'): 0.74038935, ('en', 'es'): 0.5803116, ('en', 'fr'): 0.6762016, ('en', 'ru'): 0.6301789}\n",
      "Calculating similarities for 132 news...\n",
      "{('en', 'de'): 0.6816602, ('en', 'es'): 0.58076596, ('en', 'fr'): 0.65707326, ('en', 'ru'): 0.0}\n",
      "Calculating similarities for 133 news...\n",
      "{('en', 'de'): 0.60592794, ('en', 'es'): 0.71688026, ('en', 'fr'): 0.597593, ('en', 'ru'): 0.6814929}\n",
      "Calculating similarities for 134 news...\n",
      "{('en', 'de'): 0.7495621, ('en', 'es'): 0.7569795, ('en', 'fr'): 0.7390087, ('en', 'ru'): 0.0}\n",
      "Calculating similarities for 135 news...\n",
      "{('en', 'de'): 0.6293929, ('en', 'es'): 0.629393, ('en', 'fr'): 0.0, ('en', 'ru'): 0.34899163}\n",
      "Calculating similarities for 136 news...\n",
      "{('en', 'de'): 0.42720294, ('en', 'es'): 0.7966536, ('en', 'fr'): 0.81512636, ('en', 'ru'): 0.74654716}\n",
      "Calculating similarities for 137 news...\n",
      "{('en', 'de'): 0.7616789, ('en', 'es'): 0.8190541, ('en', 'fr'): 0.778189, ('en', 'ru'): 0.7135028}\n",
      "Calculating similarities for 138 news...\n",
      "{('en', 'de'): 0.7882263, ('en', 'es'): 0.7414485, ('en', 'fr'): 0.7416635, ('en', 'ru'): 0.7725071}\n",
      "Calculating similarities for 139 news...\n",
      "{('en', 'de'): 0.0, ('en', 'es'): 0.0, ('en', 'fr'): 0.0, ('en', 'ru'): 0.0}\n",
      "Calculating similarities for 140 news...\n",
      "{('en', 'de'): 0.75243104, ('en', 'es'): 0.6697266, ('en', 'fr'): 0.69086736, ('en', 'ru'): 0.64185417}\n",
      "Calculating similarities for 141 news...\n",
      "{('en', 'de'): 0.77675444, ('en', 'es'): 0.8083365, ('en', 'fr'): 0.857857, ('en', 'ru'): 0.0}\n",
      "Calculating similarities for 142 news...\n",
      "{('en', 'de'): 0.5372315, ('en', 'es'): 0.5150557, ('en', 'fr'): 0.5906579, ('en', 'ru'): 0.549371}\n",
      "Calculating similarities for 143 news...\n",
      "{('en', 'de'): 0.7052688, ('en', 'es'): 0.6324185, ('en', 'fr'): 0.71395904, ('en', 'ru'): 0.59564185}\n",
      "Calculating similarities for 144 news...\n",
      "{('en', 'de'): 0.74260503, ('en', 'es'): 0.7580988, ('en', 'fr'): 0.77687216, ('en', 'ru'): 0.6698954}\n",
      "Calculating similarities for 145 news...\n",
      "{('en', 'de'): 0.76367056, ('en', 'es'): 0.0, ('en', 'fr'): 0.6427303, ('en', 'ru'): 0.66685385}\n",
      "Calculating similarities for 152 news...\n",
      "{('en', 'de'): 0.6396944, ('en', 'es'): 0.5661933, ('en', 'fr'): 0.6614412, ('en', 'ru'): 0.5843944}\n",
      "Calculating similarities for 153 news...\n",
      "The folder doest not exist\n",
      "Calculating similarities for 154 news...\n",
      "{('en', 'de'): 0.0, ('en', 'es'): 0.79026526, ('en', 'fr'): 0.72242147, ('en', 'ru'): 0.71674484}\n",
      "Calculating similarities for 155 news...\n",
      "{('en', 'de'): 0.6949796, ('en', 'es'): 0.6586642, ('en', 'fr'): 0.72849935, ('en', 'ru'): 0.69173914}\n",
      "Calculating similarities for 156 news...\n",
      "{('en', 'de'): 0.7850081, ('en', 'es'): 0.34610054, ('en', 'fr'): 0.642292, ('en', 'ru'): 0.3767968}\n",
      "Calculating similarities for 157 news...\n"
     ]
    },
    {
     "name": "stdout",
     "output_type": "stream",
     "text": [
      "{('en', 'de'): 0.82417387, ('en', 'es'): 0.64521146, ('en', 'fr'): 0.8059664, ('en', 'ru'): 0.88558257}\n",
      "Calculating similarities for 158 news...\n",
      "{('en', 'de'): 0.6169108, ('en', 'es'): 0.5438195, ('en', 'fr'): 0.5620978, ('en', 'ru'): 0.49502602}\n",
      "Calculating similarities for 159 news...\n",
      "{('en', 'de'): 0.588392, ('en', 'es'): 0.5960218, ('en', 'fr'): 0.6580648, ('en', 'ru'): 0.0}\n",
      "Calculating similarities for 160 news...\n",
      "{('en', 'de'): 0.28622127, ('en', 'es'): 0.61300826, ('en', 'fr'): 0.5623956, ('en', 'ru'): 0.0}\n",
      "Calculating similarities for 161 news...\n",
      "{('en', 'de'): 0.27845994, ('en', 'es'): 0.72166663, ('en', 'fr'): 0.7106166, ('en', 'ru'): 0.6549938}\n",
      "Calculating similarities for 162 news...\n",
      "The folder doest not exist\n",
      "Calculating similarities for 163 news...\n",
      "{('en', 'de'): 0.62160575, ('en', 'es'): 0.6241213, ('en', 'fr'): 0.6619949, ('en', 'ru'): 0.6400223}\n",
      "Calculating similarities for 164 news...\n",
      "{('en', 'de'): 0.7450821, ('en', 'es'): 0.7400896, ('en', 'fr'): 0.0, ('en', 'ru'): 0.7329664}\n",
      "Calculating similarities for 165 news...\n",
      "{('en', 'de'): 0.6330088, ('en', 'es'): 0.61926043, ('en', 'fr'): 0.61418104, ('en', 'ru'): 0.5729026}\n",
      "Calculating similarities for 166 news...\n",
      "The folder doest not exist\n",
      "Calculating similarities for 167 news...\n",
      "The folder doest not exist\n",
      "Calculating similarities for 168 news...\n",
      "{('en', 'de'): 0.67537326, ('en', 'es'): 0.6558982, ('en', 'fr'): 0.65549195, ('en', 'ru'): 0.5227272}\n",
      "Calculating similarities for 169 news...\n",
      "{('en', 'de'): 0.59646356, ('en', 'es'): 0.5739772, ('en', 'fr'): 0.583228, ('en', 'ru'): 0.54171175}\n",
      "Calculating similarities for 170 news...\n",
      "{('en', 'de'): 0.78930503, ('en', 'es'): 0.7972557, ('en', 'fr'): 0.83242553, ('en', 'ru'): 0.6918059}\n"
     ]
    }
   ],
   "source": [
    "#!g1.1\n",
    "for index in list(range(35)) + list(range(125, 145)) + list(range(151, 170)):\n",
    "    print(f'Calculating similarities for {index + 1} news...')\n",
    "    try:\n",
    "        similarities = cos_sims_for_one_news(index, titles, languages=languages, language_pairs=language_pairs, model=model)\n",
    "        print(similarities)\n",
    "    except:\n",
    "        print('The folder doest not exist')\n",
    "    for pair in similarities:\n",
    "        titles_with_image_similarities.loc[index, f'{pair[0]}-{pair[1]}'] = similarities[pair]   \n"
   ]
  },
  {
   "cell_type": "code",
   "execution_count": 68,
   "id": "historic-chassis",
   "metadata": {},
   "outputs": [],
   "source": [
    "subsample = titles_with_image_similarities[titles_with_image_similarities.iloc[:, -4:].sum(axis=1) > 0]"
   ]
  },
  {
   "cell_type": "markdown",
   "id": "static-landing",
   "metadata": {},
   "source": [
    "## Results"
   ]
  },
  {
   "cell_type": "code",
   "execution_count": 65,
   "id": "owned-continent",
   "metadata": {},
   "outputs": [
    {
     "data": {
      "text/html": [
       "<div>\n",
       "<style scoped>\n",
       "    .dataframe tbody tr th:only-of-type {\n",
       "        vertical-align: middle;\n",
       "    }\n",
       "\n",
       "    .dataframe tbody tr th {\n",
       "        vertical-align: top;\n",
       "    }\n",
       "\n",
       "    .dataframe thead th {\n",
       "        text-align: right;\n",
       "    }\n",
       "</style>\n",
       "<table border=\"1\" class=\"dataframe\">\n",
       "  <thead>\n",
       "    <tr style=\"text-align: right;\">\n",
       "      <th></th>\n",
       "      <th>en-de</th>\n",
       "      <th>en-es</th>\n",
       "      <th>en-fr</th>\n",
       "      <th>en-ru</th>\n",
       "    </tr>\n",
       "    <tr>\n",
       "      <th>label</th>\n",
       "      <th></th>\n",
       "      <th></th>\n",
       "      <th></th>\n",
       "      <th></th>\n",
       "    </tr>\n",
       "  </thead>\n",
       "  <tbody>\n",
       "    <tr>\n",
       "      <th>0</th>\n",
       "      <td>0.6363</td>\n",
       "      <td>0.6478</td>\n",
       "      <td>0.6541</td>\n",
       "      <td>0.5484</td>\n",
       "    </tr>\n",
       "    <tr>\n",
       "      <th>1</th>\n",
       "      <td>0.5799</td>\n",
       "      <td>0.6335</td>\n",
       "      <td>0.6285</td>\n",
       "      <td>0.5767</td>\n",
       "    </tr>\n",
       "  </tbody>\n",
       "</table>\n",
       "</div>"
      ],
      "text/plain": [
       "        en-de   en-es   en-fr   en-ru\n",
       "label                                \n",
       "0      0.6363  0.6478  0.6541  0.5484\n",
       "1      0.5799  0.6335  0.6285  0.5767"
      ]
     },
     "execution_count": 65,
     "metadata": {},
     "output_type": "execute_result"
    }
   ],
   "source": [
    "mean_by_lang = subsample.groupby('label')[subsample.columns[-4:]].mean()\n",
    "mean_by_lang.round(4)"
   ]
  },
  {
   "cell_type": "code",
   "execution_count": 66,
   "id": "adequate-honduras",
   "metadata": {},
   "outputs": [
    {
     "data": {
      "text/plain": [
       "label\n",
       "0    0.6217\n",
       "1    0.6046\n",
       "dtype: float64"
      ]
     },
     "execution_count": 66,
     "metadata": {},
     "output_type": "execute_result"
    }
   ],
   "source": [
    "mean_by_lang.mean(axis=1).round(4)"
   ]
  },
  {
   "cell_type": "markdown",
   "id": "hired-alexander",
   "metadata": {
    "cellId": "63s8msv7lv83cc2xriez4y",
    "execution_id": "dbc0433d-1ef1-4a97-a405-54ef6e42f0f9"
   },
   "source": [
    "## Save csv file with new features"
   ]
  },
  {
   "cell_type": "code",
   "execution_count": 70,
   "id": "metropolitan-circus",
   "metadata": {
    "cellId": "8bhn9tecs8lgjnq9hd11h"
   },
   "outputs": [],
   "source": [
    "subsample.to_csv('subsample.csv', index=False)\n",
    "\n",
    "titles_with_image_similarities.to_csv(\"./titles_with_image_similarities.csv\", index = False)"
   ]
  }
 ],
 "metadata": {
  "kernelspec": {
   "display_name": "Python 3",
   "language": "python",
   "name": "python3"
  },
  "language_info": {
   "codemirror_mode": {
    "name": "ipython",
    "version": 3
   },
   "file_extension": ".py",
   "mimetype": "text/x-python",
   "name": "python",
   "nbconvert_exporter": "python",
   "pygments_lexer": "ipython3",
   "version": "3.8.3"
  },
  "notebookId": "3dc4b905-e652-4cbe-b6ca-2ea1c0d8bb5a",
  "notebookPath": "Untitled.ipynb"
 },
 "nbformat": 4,
 "nbformat_minor": 5
}
